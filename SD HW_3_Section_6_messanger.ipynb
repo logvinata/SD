{
 "cells": [
  {
   "cell_type": "code",
   "execution_count": 6,
   "id": "b42d9780",
   "metadata": {},
   "outputs": [],
   "source": [
    "class Messenger:\n",
    "    \"Surprise! it's a messenger\"\n",
    "    def __init__(self, users = {}):\n",
    "        self.users = users\n",
    "        \n",
    "    def add_user(user):\n",
    "        if not user.isinstance(user):\n",
    "            print(\"This is not a valid user\")\n",
    "            return\n",
    "        if user.login in users:\n",
    "            print(\"Error! The user with this login is already registered\")\n",
    "            return\n",
    "        else:\n",
    "            users[user.login] = user\n",
    "                "
   ]
  },
  {
   "cell_type": "code",
   "execution_count": null,
   "id": "a6b1de0b",
   "metadata": {},
   "outputs": [],
   "source": [
    "class user:\n",
    "    \"messengers user\"\n",
    "    def __init__(login, name, age = None, city = None, country=None ):\n",
    "        self.login = login\n",
    "        self.personal = {}\n",
    "        self.chats = {}\n",
    "        self.unread_mensions = {}\n",
    "        self.personal[\"name\"] = name\n",
    "        self.personal[\"age\"] = add_age(age)\n",
    "        self.personal[\"city\"] = add_city(city)\n",
    "        self.personal[\"country\"] = add_country(country)\n",
    "        \n",
    "    def add_age():\n",
    "        pass\n",
    "    \n",
    "    def add_city():\n",
    "        pass\n",
    "    \n",
    "    def add_country():\n",
    "        pass\n",
    "    \n",
    "    def add_to_chat():\n",
    "        pass\n",
    "    \n",
    "    def send_message(chat):\n",
    "        pass\n",
    "    \n",
    "    def edit_message(chat):\n",
    "        pass\n",
    "       \n",
    "        "
   ]
  },
  {
   "cell_type": "code",
   "execution_count": null,
   "id": "f8a0baab",
   "metadata": {},
   "outputs": [],
   "source": [
    "mess = {\"\"Ann\"\" : {\"\"personal\"\" : [\"\"21\"\", \"\"Russia\"\", \"\"Moscow\"\", \"\"+79180000000\"\"],\n",
    "                 \"\"chats\"\" : [\"\"chat1\"\", \"\"chat2\"\"],\n",
    "                 \"\"last_online\"\" : [2021-12-31],\n",
    "                 \"\"unread_mensions\"\" : [\"\"mension1\"\"]\n",
    "                 },\n",
    "        \"\"Paul\"\" : {\"\"personal\"\" : [None, None, None, None],\n",
    "                  \"\"chats\"\" : [\"\"chat2\"\", \"\"chat3\"\"],\n",
    "                  \"\"last_online\"\" : [2009-11-11],\n",
    "                  \"\"mensions\"\" : []\n",
    "                  }\n",
    "        }"
   ]
  },
  {
   "cell_type": "code",
   "execution_count": 2,
   "id": "d1c84f98",
   "metadata": {},
   "outputs": [],
   "source": [
    "s = set()\n",
    "s.add(1)\n",
    "s.add(2)"
   ]
  },
  {
   "cell_type": "code",
   "execution_count": 3,
   "id": "a22efbba",
   "metadata": {},
   "outputs": [],
   "source": [
    "s.add(1)"
   ]
  },
  {
   "cell_type": "markdown",
   "id": "efad4516",
   "metadata": {},
   "source": [
    "# "
   ]
  }
 ],
 "metadata": {
  "kernelspec": {
   "display_name": "Python 3 (ipykernel)",
   "language": "python",
   "name": "python3"
  },
  "language_info": {
   "codemirror_mode": {
    "name": "ipython",
    "version": 3
   },
   "file_extension": ".py",
   "mimetype": "text/x-python",
   "name": "python",
   "nbconvert_exporter": "python",
   "pygments_lexer": "ipython3",
   "version": "3.9.7"
  }
 },
 "nbformat": 4,
 "nbformat_minor": 5
}
